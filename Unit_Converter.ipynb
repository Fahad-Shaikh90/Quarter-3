{
  "nbformat": 4,
  "nbformat_minor": 0,
  "metadata": {
    "colab": {
      "provenance": [],
      "authorship_tag": "ABX9TyMs0OSEZYmEx0LP3qNTjLfH",
      "include_colab_link": true
    },
    "kernelspec": {
      "name": "python3",
      "display_name": "Python 3"
    },
    "language_info": {
      "name": "python"
    }
  },
  "cells": [
    {
      "cell_type": "markdown",
      "metadata": {
        "id": "view-in-github",
        "colab_type": "text"
      },
      "source": [
        "<a href=\"https://colab.research.google.com/github/Fahad-Shaikh90/Quarter-3/blob/main/Unit_Converter.ipynb\" target=\"_parent\"><img src=\"https://colab.research.google.com/assets/colab-badge.svg\" alt=\"Open In Colab\"/></a>"
      ]
    },
    {
      "cell_type": "code",
      "execution_count": 3,
      "metadata": {
        "colab": {
          "base_uri": "https://localhost:8080/",
          "height": 426
        },
        "id": "rG0DgYSK8vVO",
        "outputId": "7320c165-d675-4136-c8c0-d1a33c8dc9ee"
      },
      "outputs": [
        {
          "output_type": "stream",
          "name": "stdout",
          "text": [
            "Welcome to the Google Unit Converter!\n",
            "Enter conversion (e.g., '5 kilometers to miles'): 5 kilometers to miles\n",
            "Conversion from kilometers to miles not supported yet.\n"
          ]
        },
        {
          "output_type": "error",
          "ename": "KeyboardInterrupt",
          "evalue": "Interrupted by user",
          "traceback": [
            "\u001b[0;31m---------------------------------------------------------------------------\u001b[0m",
            "\u001b[0;31mKeyboardInterrupt\u001b[0m                         Traceback (most recent call last)",
            "\u001b[0;32m<ipython-input-3-c9a5a3c4d013>\u001b[0m in \u001b[0;36m<cell line: 0>\u001b[0;34m()\u001b[0m\n\u001b[1;32m     75\u001b[0m     \u001b[0;32mwhile\u001b[0m \u001b[0;32mTrue\u001b[0m\u001b[0;34m:\u001b[0m\u001b[0;34m\u001b[0m\u001b[0;34m\u001b[0m\u001b[0m\n\u001b[1;32m     76\u001b[0m         \u001b[0munit_converter\u001b[0m\u001b[0;34m(\u001b[0m\u001b[0;34m)\u001b[0m\u001b[0;34m\u001b[0m\u001b[0;34m\u001b[0m\u001b[0m\n\u001b[0;32m---> 77\u001b[0;31m         \u001b[0magain\u001b[0m \u001b[0;34m=\u001b[0m \u001b[0minput\u001b[0m\u001b[0;34m(\u001b[0m\u001b[0;34m\"\\nDo you want to convert another unit? (yes/no): \"\u001b[0m\u001b[0;34m)\u001b[0m\u001b[0;34m.\u001b[0m\u001b[0mlower\u001b[0m\u001b[0;34m(\u001b[0m\u001b[0;34m)\u001b[0m\u001b[0;34m\u001b[0m\u001b[0;34m\u001b[0m\u001b[0m\n\u001b[0m\u001b[1;32m     78\u001b[0m         \u001b[0;32mif\u001b[0m \u001b[0magain\u001b[0m \u001b[0;34m!=\u001b[0m \u001b[0;34m'yes'\u001b[0m\u001b[0;34m:\u001b[0m\u001b[0;34m\u001b[0m\u001b[0;34m\u001b[0m\u001b[0m\n\u001b[1;32m     79\u001b[0m             \u001b[0mprint\u001b[0m\u001b[0;34m(\u001b[0m\u001b[0;34m\"Thank you for using the converter!\"\u001b[0m\u001b[0;34m)\u001b[0m\u001b[0;34m\u001b[0m\u001b[0;34m\u001b[0m\u001b[0m\n",
            "\u001b[0;32m/usr/local/lib/python3.11/dist-packages/ipykernel/kernelbase.py\u001b[0m in \u001b[0;36mraw_input\u001b[0;34m(self, prompt)\u001b[0m\n\u001b[1;32m   1175\u001b[0m                 \u001b[0;34m\"raw_input was called, but this frontend does not support input requests.\"\u001b[0m\u001b[0;34m\u001b[0m\u001b[0;34m\u001b[0m\u001b[0m\n\u001b[1;32m   1176\u001b[0m             )\n\u001b[0;32m-> 1177\u001b[0;31m         return self._input_request(\n\u001b[0m\u001b[1;32m   1178\u001b[0m             \u001b[0mstr\u001b[0m\u001b[0;34m(\u001b[0m\u001b[0mprompt\u001b[0m\u001b[0;34m)\u001b[0m\u001b[0;34m,\u001b[0m\u001b[0;34m\u001b[0m\u001b[0;34m\u001b[0m\u001b[0m\n\u001b[1;32m   1179\u001b[0m             \u001b[0mself\u001b[0m\u001b[0;34m.\u001b[0m\u001b[0m_parent_ident\u001b[0m\u001b[0;34m[\u001b[0m\u001b[0;34m\"shell\"\u001b[0m\u001b[0;34m]\u001b[0m\u001b[0;34m,\u001b[0m\u001b[0;34m\u001b[0m\u001b[0;34m\u001b[0m\u001b[0m\n",
            "\u001b[0;32m/usr/local/lib/python3.11/dist-packages/ipykernel/kernelbase.py\u001b[0m in \u001b[0;36m_input_request\u001b[0;34m(self, prompt, ident, parent, password)\u001b[0m\n\u001b[1;32m   1217\u001b[0m             \u001b[0;32mexcept\u001b[0m \u001b[0mKeyboardInterrupt\u001b[0m\u001b[0;34m:\u001b[0m\u001b[0;34m\u001b[0m\u001b[0;34m\u001b[0m\u001b[0m\n\u001b[1;32m   1218\u001b[0m                 \u001b[0;31m# re-raise KeyboardInterrupt, to truncate traceback\u001b[0m\u001b[0;34m\u001b[0m\u001b[0;34m\u001b[0m\u001b[0m\n\u001b[0;32m-> 1219\u001b[0;31m                 \u001b[0;32mraise\u001b[0m \u001b[0mKeyboardInterrupt\u001b[0m\u001b[0;34m(\u001b[0m\u001b[0;34m\"Interrupted by user\"\u001b[0m\u001b[0;34m)\u001b[0m \u001b[0;32mfrom\u001b[0m \u001b[0;32mNone\u001b[0m\u001b[0;34m\u001b[0m\u001b[0;34m\u001b[0m\u001b[0m\n\u001b[0m\u001b[1;32m   1220\u001b[0m             \u001b[0;32mexcept\u001b[0m \u001b[0mException\u001b[0m\u001b[0;34m:\u001b[0m\u001b[0;34m\u001b[0m\u001b[0;34m\u001b[0m\u001b[0m\n\u001b[1;32m   1221\u001b[0m                 \u001b[0mself\u001b[0m\u001b[0;34m.\u001b[0m\u001b[0mlog\u001b[0m\u001b[0;34m.\u001b[0m\u001b[0mwarning\u001b[0m\u001b[0;34m(\u001b[0m\u001b[0;34m\"Invalid Message:\"\u001b[0m\u001b[0;34m,\u001b[0m \u001b[0mexc_info\u001b[0m\u001b[0;34m=\u001b[0m\u001b[0;32mTrue\u001b[0m\u001b[0;34m)\u001b[0m\u001b[0;34m\u001b[0m\u001b[0;34m\u001b[0m\u001b[0m\n",
            "\u001b[0;31mKeyboardInterrupt\u001b[0m: Interrupted by user"
          ]
        }
      ],
      "source": [
        "from typing import Dict\n",
        "\n",
        "def unit_converter():\n",
        "    # Define unit conversion factors (relative to base units)\n",
        "    length_units: Dict[str, float] = {\n",
        "        'meter': 1.0,\n",
        "        'kilometer': 1000.0,\n",
        "        'mile': 1609.34,\n",
        "        'foot': 0.3048,\n",
        "        'inch': 0.0254,\n",
        "        'centimeter': 0.01,\n",
        "        'millimeter': 0.001,\n",
        "        'yard': 0.9144\n",
        "    }\n",
        "\n",
        "    weight_units: Dict[str, float] = {\n",
        "        'kilogram': 1.0,\n",
        "        'gram': 0.001,\n",
        "        'pound': 0.453592,\n",
        "        'ounce': 0.0283495\n",
        "    }\n",
        "\n",
        "    temperature_units = ['celsius', 'fahrenheit', 'kelvin']\n",
        "\n",
        "    print(\"Welcome to the Google Unit Converter!\")\n",
        "    user_input = input(\"Enter conversion (e.g., '5 kilometers to miles'): \").lower()\n",
        "\n",
        "    try:\n",
        "        amount, from_unit, _, to_unit = user_input.split()\n",
        "        amount = float(amount)\n",
        "    except ValueError:\n",
        "        print(\"Invalid input format. Try '5 kilometers to miles'.\")\n",
        "        return\n",
        "\n",
        "    # Length conversion\n",
        "    if from_unit in length_units and to_unit in length_units:\n",
        "        meters = amount * length_units[from_unit]\n",
        "        result = meters / length_units[to_unit]\n",
        "        print(f\"{amount} {from_unit} = {result:.4f} {to_unit}\")\n",
        "\n",
        "    # Weight conversion\n",
        "    elif from_unit in weight_units and to_unit in weight_units:\n",
        "        kilograms = amount * weight_units[from_unit]\n",
        "        result = kilograms / weight_units[to_unit]\n",
        "        print(f\"{amount} {from_unit} = {result:.4f} {to_unit}\")\n",
        "\n",
        "    # Temperature conversion\n",
        "    elif from_unit in temperature_units and to_unit in temperature_units:\n",
        "        result = convert_temperature(amount, from_unit, to_unit)\n",
        "        print(f\"{amount} {from_unit} = {result:.2f} {to_unit}\")\n",
        "\n",
        "    else:\n",
        "        print(f\"Conversion from {from_unit} to {to_unit} not supported yet.\")\n",
        "\n",
        "\n",
        "def convert_temperature(amount: float, from_unit: str, to_unit: str) -> float:\n",
        "    if from_unit == 'celsius':\n",
        "        if to_unit == 'fahrenheit':\n",
        "            return amount * 9/5 + 32\n",
        "        elif to_unit == 'kelvin':\n",
        "            return amount + 273.15\n",
        "    elif from_unit == 'fahrenheit':\n",
        "        if to_unit == 'celsius':\n",
        "            return (amount - 32) * 5/9\n",
        "        elif to_unit == 'kelvin':\n",
        "            return (amount - 32) * 5/9 + 273.15\n",
        "    elif from_unit == 'kelvin':\n",
        "        if to_unit == 'celsius':\n",
        "            return amount - 273.15\n",
        "        elif to_unit == 'fahrenheit':\n",
        "            return (amount - 273.15) * 9/5 + 32\n",
        "    return amount\n",
        "\n",
        "if __name__ == \"__main__\":\n",
        "    while True:\n",
        "        unit_converter()\n",
        "        again = input(\"\\nDo you want to convert another unit? (yes/no): \").lower()\n",
        "        if again != 'yes':\n",
        "            print(\"Thank you for using the converter!\")\n",
        "            break\n"
      ]
    }
  ]
}