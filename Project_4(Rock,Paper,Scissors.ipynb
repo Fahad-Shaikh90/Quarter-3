{
  "nbformat": 4,
  "nbformat_minor": 0,
  "metadata": {
    "colab": {
      "provenance": [],
      "authorship_tag": "ABX9TyPI0LD7gOxG+XKcdue7GPfJ",
      "include_colab_link": true
    },
    "kernelspec": {
      "name": "python3",
      "display_name": "Python 3"
    },
    "language_info": {
      "name": "python"
    }
  },
  "cells": [
    {
      "cell_type": "markdown",
      "metadata": {
        "id": "view-in-github",
        "colab_type": "text"
      },
      "source": [
        "<a href=\"https://colab.research.google.com/github/Fahad-Shaikh90/Quarter-3/blob/main/Project_4(Rock%2CPaper%2CScissors.ipynb\" target=\"_parent\"><img src=\"https://colab.research.google.com/assets/colab-badge.svg\" alt=\"Open In Colab\"/></a>"
      ]
    },
    {
      "cell_type": "code",
      "execution_count": 1,
      "metadata": {
        "colab": {
          "base_uri": "https://localhost:8080/"
        },
        "id": "A085zzP5WWCm",
        "outputId": "5eee42db-8d87-478e-f99c-6766f17b9b69"
      },
      "outputs": [
        {
          "output_type": "stream",
          "name": "stdout",
          "text": [
            "Choose rock, paper, or scissors: rock\n",
            "You chose: rock\n",
            "Computer chose: scissors\n",
            "🎉 You win!\n"
          ]
        }
      ],
      "source": [
        "import random\n",
        "\n",
        "choices = [\"rock\", \"paper\", \"scissors\"]\n",
        "\n",
        "# Get user input\n",
        "user_choice = input(\"Choose rock, paper, or scissors: \").lower()\n",
        "computer_choice = random.choice(choices)\n",
        "\n",
        "print(f\"You chose: {user_choice}\")\n",
        "print(f\"Computer chose: {computer_choice}\")\n",
        "\n",
        "# Decide winner\n",
        "if user_choice == computer_choice:\n",
        "    print(\"It's a tie!\")\n",
        "elif (user_choice == \"rock\" and computer_choice == \"scissors\") or \\\n",
        "     (user_choice == \"scissors\" and computer_choice == \"paper\") or \\\n",
        "     (user_choice == \"paper\" and computer_choice == \"rock\"):\n",
        "    print(\"🎉 You win!\")\n",
        "else:\n",
        "    print(\"💻 Computer wins!\")\n"
      ]
    }
  ]
}