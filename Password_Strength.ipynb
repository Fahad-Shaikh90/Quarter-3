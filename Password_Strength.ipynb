{
  "nbformat": 4,
  "nbformat_minor": 0,
  "metadata": {
    "colab": {
      "provenance": [],
      "authorship_tag": "ABX9TyMYS3NbVnG1FYFQC64GNYNs",
      "include_colab_link": true
    },
    "kernelspec": {
      "name": "python3",
      "display_name": "Python 3"
    },
    "language_info": {
      "name": "python"
    }
  },
  "cells": [
    {
      "cell_type": "markdown",
      "metadata": {
        "id": "view-in-github",
        "colab_type": "text"
      },
      "source": [
        "<a href=\"https://colab.research.google.com/github/Fahad-Shaikh90/Quarter-3/blob/main/Password_Strength.ipynb\" target=\"_parent\"><img src=\"https://colab.research.google.com/assets/colab-badge.svg\" alt=\"Open In Colab\"/></a>"
      ]
    },
    {
      "cell_type": "code",
      "execution_count": 1,
      "metadata": {
        "colab": {
          "base_uri": "https://localhost:8080/"
        },
        "id": "Hv59YveILz3F",
        "outputId": "1fdd7ac2-acc5-454f-e3f8-c9d2856febcf"
      },
      "outputs": [
        {
          "output_type": "stream",
          "name": "stdout",
          "text": [
            "Password Strength Meter\n",
            "Enter your password: alpine\n",
            "\n",
            "Password Strength: Weak\n",
            "Suggestions to improve:\n",
            "- Password should be at least 8 characters long.\n",
            "- Password should include at least one number.\n",
            "- Password should include at least one uppercase letter.\n",
            "- Password should include at least one special character (!@#$%^&* etc.).\n"
          ]
        }
      ],
      "source": [
        "import re\n",
        "\n",
        "def check_password_strength(password: str) -> str:\n",
        "    score = 0\n",
        "    feedback = []\n",
        "\n",
        "    # Check length\n",
        "    if len(password) >= 8:\n",
        "        score += 1\n",
        "    else:\n",
        "        feedback.append(\"Password should be at least 8 characters long.\")\n",
        "\n",
        "    # Check for digits\n",
        "    if re.search(r\"\\d\", password):\n",
        "        score += 1\n",
        "    else:\n",
        "        feedback.append(\"Password should include at least one number.\")\n",
        "\n",
        "    # Check for lowercase letters\n",
        "    if re.search(r\"[a-z]\", password):\n",
        "        score += 1\n",
        "    else:\n",
        "        feedback.append(\"Password should include at least one lowercase letter.\")\n",
        "\n",
        "    # Check for uppercase letters\n",
        "    if re.search(r\"[A-Z]\", password):\n",
        "        score += 1\n",
        "    else:\n",
        "        feedback.append(\"Password should include at least one uppercase letter.\")\n",
        "\n",
        "    # Check for special characters\n",
        "    if re.search(r\"[!@#$%^&*(),.?\\\":{}|<>]\", password):\n",
        "        score += 1\n",
        "    else:\n",
        "        feedback.append(\"Password should include at least one special character (!@#$%^&* etc.).\")\n",
        "\n",
        "    # Determine strength\n",
        "    if score <= 2:\n",
        "        strength = \"Weak\"\n",
        "    elif score == 3 or score == 4:\n",
        "        strength = \"Moderate\"\n",
        "    else:\n",
        "        strength = \"Strong\"\n",
        "\n",
        "    return strength, feedback\n",
        "\n",
        "def main():\n",
        "    print(\"Password Strength Meter\")\n",
        "    password = input(\"Enter your password: \")\n",
        "    strength, feedback = check_password_strength(password)\n",
        "\n",
        "    print(f\"\\nPassword Strength: {strength}\")\n",
        "    if strength != \"Strong\":\n",
        "        print(\"Suggestions to improve:\")\n",
        "        for suggestion in feedback:\n",
        "            print(f\"- {suggestion}\")\n",
        "\n",
        "if __name__ == \"__main__\":\n",
        "    main()\n"
      ]
    }
  ]
}