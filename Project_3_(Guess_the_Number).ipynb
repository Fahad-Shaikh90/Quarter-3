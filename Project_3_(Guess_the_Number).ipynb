{
  "nbformat": 4,
  "nbformat_minor": 0,
  "metadata": {
    "colab": {
      "provenance": [],
      "authorship_tag": "ABX9TyPEIqhByaO5COAb2NEHg+aM",
      "include_colab_link": true
    },
    "kernelspec": {
      "name": "python3",
      "display_name": "Python 3"
    },
    "language_info": {
      "name": "python"
    }
  },
  "cells": [
    {
      "cell_type": "markdown",
      "metadata": {
        "id": "view-in-github",
        "colab_type": "text"
      },
      "source": [
        "<a href=\"https://colab.research.google.com/github/Fahad-Shaikh90/Quarter-3/blob/main/Project_3_(Guess_the_Number).ipynb\" target=\"_parent\"><img src=\"https://colab.research.google.com/assets/colab-badge.svg\" alt=\"Open In Colab\"/></a>"
      ]
    },
    {
      "cell_type": "code",
      "source": [
        "import random\n",
        "\n",
        "secret_number = random.randint(1, 10)\n",
        "max_attempts = 5\n",
        "\n",
        "print(\"Guess the number between 1 and 10. You have 5 tries!\")\n",
        "\n",
        "for attempt in range(1, max_attempts + 1):\n",
        "    guess = int(input(f\"Attempt {attempt}: \"))\n",
        "\n",
        "    if guess == secret_number:\n",
        "        print(f\"🎉 Correct! You guessed it in {attempt} tries.\")\n",
        "        break\n",
        "    elif guess < secret_number:\n",
        "        print(\"Too low.\")\n",
        "    else:\n",
        "        print(\"Too high.\")\n",
        "\n",
        "    if attempt == max_attempts:\n",
        "        print(f\"❌ Game Over! The number was {secret_number}.\")\n"
      ],
      "metadata": {
        "id": "s2v2g6eWqqkN",
        "colab": {
          "base_uri": "https://localhost:8080/"
        },
        "outputId": "274ab2ec-c32f-46cf-bc7f-32b893cf9603"
      },
      "execution_count": 8,
      "outputs": [
        {
          "output_type": "stream",
          "name": "stdout",
          "text": [
            "Guess the number between 1 and 10. You have 5 tries!\n",
            "Attempt 1: 1\n",
            "Too low.\n",
            "Attempt 2: 3\n",
            "Too low.\n",
            "Attempt 3: 5\n",
            "Too low.\n",
            "Attempt 4: 8\n",
            "Too low.\n",
            "Attempt 5: 9\n",
            "🎉 Correct! You guessed it in 5 tries.\n"
          ]
        }
      ]
    }
  ]
}