{
  "nbformat": 4,
  "nbformat_minor": 0,
  "metadata": {
    "colab": {
      "provenance": [],
      "authorship_tag": "ABX9TyNbnpqZ0tB3ncjoxufRMZ2+",
      "include_colab_link": true
    },
    "kernelspec": {
      "name": "python3",
      "display_name": "Python 3"
    },
    "language_info": {
      "name": "python"
    }
  },
  "cells": [
    {
      "cell_type": "markdown",
      "metadata": {
        "id": "view-in-github",
        "colab_type": "text"
      },
      "source": [
        "<a href=\"https://colab.research.google.com/github/Fahad-Shaikh90/Quarter-3/blob/main/Project_2.ipynb\" target=\"_parent\"><img src=\"https://colab.research.google.com/assets/colab-badge.svg\" alt=\"Open In Colab\"/></a>"
      ]
    },
    {
      "cell_type": "code",
      "execution_count": 1,
      "metadata": {
        "colab": {
          "base_uri": "https://localhost:8080/"
        },
        "id": "YpjlSo92zMwN",
        "outputId": "9370191c-b5bb-4d87-e1bf-e4cdc2527940"
      },
      "outputs": [
        {
          "output_type": "stream",
          "name": "stdout",
          "text": [
            "Welcome to 'Guess the Number'!\n",
            "Think of a number between 1 and 100, and I will try to guess it.\n",
            "Press Enter when you're ready...50\n",
            "My guess is: 50\n",
            "Is it (H)igh, (L)ow, or (C)orrect? c\n",
            "Yay! I guessed your number in 1 tries!\n"
          ]
        }
      ],
      "source": [
        "def computer_guess_number():\n",
        "    print(\"Welcome to 'Guess the Number'!\")\n",
        "    print(\"Think of a number between 1 and 100, and I will try to guess it.\")\n",
        "    input(\"Press Enter when you're ready...\")\n",
        "\n",
        "    low = 1\n",
        "    high = 100\n",
        "    attempts = 0\n",
        "\n",
        "    while low <= high:\n",
        "        guess = (low + high) // 2\n",
        "        attempts += 1\n",
        "        print(f\"My guess is: {guess}\")\n",
        "        feedback = input(\"Is it (H)igh, (L)ow, or (C)orrect? \").lower()\n",
        "\n",
        "        if feedback == 'c':\n",
        "            print(f\"Yay! I guessed your number in {attempts} tries!\")\n",
        "            break\n",
        "        elif feedback == 'h':\n",
        "            high = guess - 1\n",
        "        elif feedback == 'l':\n",
        "            low = guess + 1\n",
        "        else:\n",
        "            print(\"Please enter 'H', 'L', or 'C'.\")\n",
        "\n",
        "    if low > high:\n",
        "        print(\"Hmm... seems like there was a misunderstanding. Let's try again!\")\n",
        "\n",
        "# Run the game\n",
        "computer_guess_number()\n"
      ]
    }
  ]
}